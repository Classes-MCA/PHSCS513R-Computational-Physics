{
 "cells": [
  {
   "cell_type": "markdown",
   "metadata": {},
   "source": [
    "Sipser 0.1, Mertens 1.1"
   ]
  },
  {
   "cell_type": "markdown",
   "metadata": {},
   "source": [
    "# Finite Automata (AKA State Machines)"
   ]
  },
  {
   "cell_type": "markdown",
   "metadata": {},
   "source": [
    "## Finite Automata (section 1.1)"
   ]
  },
  {
   "cell_type": "markdown",
   "metadata": {},
   "source": [
    "**Key Elements**\n",
    "\n",
    "- Set of states\n",
    "- Move between states based on each input (there are rules for transitioning)\n",
    "\n",
    "**About this Model**\n",
    "\n",
    "- It's not a \"universal computer\"\n",
    "- It has limited memory\n",
    "    - The path that you took to get to the current state doesn't matter\n",
    "        - There's not enough memory to remember the path that took you there"
   ]
  },
  {
   "cell_type": "markdown",
   "metadata": {},
   "source": [
    "### Definition 1.5 in Book"
   ]
  },
  {
   "cell_type": "markdown",
   "metadata": {},
   "source": [
    "($Q$,$\\Sigma$,$\\delta$,$q_0$,$F$)\n",
    "\n",
    "1. $Q$ = Set of states (finite)\n",
    "2. $\\Sigma$ = finite set of input signals (the alphabet)\n",
    "3. $\\delta$ = the rules that tell you how to get to other states (the transition function)\n",
    "    - $Q_n \\times \\Sigma \\rightarrow Q_{n+1}$\n",
    "4. $q_0$ = starting state\n",
    "5. $F \\leq Q$ = set of \"accept\" states"
   ]
  },
  {
   "cell_type": "markdown",
   "metadata": {
    "heading_collapsed": true
   },
   "source": [
    "### Accepting Strings"
   ]
  },
  {
   "cell_type": "markdown",
   "metadata": {
    "hidden": true
   },
   "source": [
    "If the machine ends in an accept state after processing a string of inputs, then we say that the machine *accepted* the string.\n",
    "\n",
    "- $A$ = the set of strings that a machine ($M$) accepts\n",
    "    - $A$ is the *language* of the machine $M$\n",
    "    - $\\mathcal{L}(M) = A$\n",
    "        - *The language of machine $M$ is $A$*"
   ]
  },
  {
   "cell_type": "markdown",
   "metadata": {
    "heading_collapsed": true
   },
   "source": [
    "### Example"
   ]
  },
  {
   "cell_type": "markdown",
   "metadata": {
    "hidden": true
   },
   "source": [
    "<img src = \"Images/January/Finite Automaton Example.png\" width = 600>"
   ]
  },
  {
   "cell_type": "markdown",
   "metadata": {
    "heading_collapsed": true
   },
   "source": [
    "## Non-determinism (section 1.2)"
   ]
  },
  {
   "cell_type": "markdown",
   "metadata": {
    "hidden": true
   },
   "source": [
    "- Multiple options for transitions"
   ]
  },
  {
   "cell_type": "markdown",
   "metadata": {
    "heading_collapsed": true,
    "hidden": true
   },
   "source": [
    "### Example"
   ]
  },
  {
   "cell_type": "markdown",
   "metadata": {
    "hidden": true
   },
   "source": [
    "<img src = \"Images/January/Non-determinism Example.png\" width = 600>\n",
    "\n",
    "<img src = \"Images/January/Non-determinism Example Slide 2.png\" width = 600>\n",
    "\n",
    "Accept if ANY of the final states are in an accept state"
   ]
  },
  {
   "cell_type": "markdown",
   "metadata": {
    "heading_collapsed": true,
    "hidden": true
   },
   "source": [
    "### New Symbol: Epsilon"
   ]
  },
  {
   "cell_type": "markdown",
   "metadata": {
    "hidden": true
   },
   "source": [
    "$\\epsilon$: Make a copy without reading input, and then continue\n",
    "\n",
    "<img src = \"Images/January/Epsilon Definition.png\" width = 600>"
   ]
  },
  {
   "cell_type": "markdown",
   "metadata": {
    "heading_collapsed": true,
    "hidden": true
   },
   "source": [
    "### What do I need to know?"
   ]
  },
  {
   "cell_type": "markdown",
   "metadata": {
    "hidden": true
   },
   "source": [
    "Only that non-determinism is a model of parallel computation where we can get more computational power"
   ]
  },
  {
   "cell_type": "markdown",
   "metadata": {
    "heading_collapsed": true
   },
   "source": [
    "## Pushdown Automata (section 2.2)"
   ]
  },
  {
   "cell_type": "markdown",
   "metadata": {
    "hidden": true
   },
   "source": []
  }
 ],
 "metadata": {
  "author": "mes \\Sigma",
  "kernelspec": {
   "display_name": "Python 3",
   "language": "python",
   "name": "python3"
  },
  "language_info": {
   "codemirror_mode": {
    "name": "ipython",
    "version": 3
   },
   "file_extension": ".py",
   "mimetype": "text/x-python",
   "name": "python",
   "nbconvert_exporter": "python",
   "pygments_lexer": "ipython3",
   "version": "3.8.5"
  },
  "latex_envs": {
   "LaTeX_envs_menu_present": true,
   "autoclose": true,
   "autocomplete": true,
   "bibliofile": "biblio.bib",
   "cite_by": "apalike",
   "current_citInitial": 1,
   "eqLabelWithNumbers": true,
   "eqNumInitial": 1,
   "hotkeys": {
    "equation": "Ctrl-E",
    "itemize": "Ctrl-I"
   },
   "labels_anchors": false,
   "latex_user_defs": false,
   "report_style_numbering": false,
   "user_envs_cfg": false
  },
  "toc": {
   "base_numbering": 1,
   "nav_menu": {},
   "number_sections": true,
   "sideBar": true,
   "skip_h1_title": false,
   "title_cell": "Table of Contents",
   "title_sidebar": "Contents",
   "toc_cell": false,
   "toc_position": {},
   "toc_section_display": true,
   "toc_window_display": false
  },
  "varInspector": {
   "cols": {
    "lenName": 16,
    "lenType": 16,
    "lenVar": 40
   },
   "kernels_config": {
    "python": {
     "delete_cmd_postfix": "",
     "delete_cmd_prefix": "del ",
     "library": "var_list.py",
     "varRefreshCmd": "print(var_dic_list())"
    },
    "r": {
     "delete_cmd_postfix": ") ",
     "delete_cmd_prefix": "rm(",
     "library": "var_list.r",
     "varRefreshCmd": "cat(var_dic_list()) "
    }
   },
   "types_to_exclude": [
    "module",
    "function",
    "builtin_function_or_method",
    "instance",
    "_Feature"
   ],
   "window_display": false
  }
 },
 "nbformat": 4,
 "nbformat_minor": 4
}
