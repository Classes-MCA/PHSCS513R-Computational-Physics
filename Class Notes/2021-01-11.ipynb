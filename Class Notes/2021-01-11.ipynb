{
 "cells": [
  {
   "cell_type": "markdown",
   "metadata": {},
   "source": [
    "# Welcome to Class"
   ]
  },
  {
   "cell_type": "markdown",
   "metadata": {},
   "source": [
    "Routine:\n",
    "\n",
    "1. Read each lecture and complete reading quiz\n",
    "2. Come to lecture\n",
    "3. Check on the homework\n",
    "    - Is there anything in this homework assignment that I can do now?"
   ]
  },
  {
   "cell_type": "markdown",
   "metadata": {},
   "source": [
    "# What is Computational Physics?"
   ]
  },
  {
   "cell_type": "markdown",
   "metadata": {},
   "source": [
    "- Combines Physics, Math, and CS\n",
    "    - You're the one who needs to be multilingual\n",
    "- Physicists and mathematicians tend to talk well to each other, and so do computer scientists and mathematicians, but the connection between physics and CS is weaker (as far as tradition goes)"
   ]
  },
  {
   "cell_type": "markdown",
   "metadata": {},
   "source": [
    "## What is Computer Science?"
   ]
  },
  {
   "cell_type": "markdown",
   "metadata": {},
   "source": [
    "- Consider a traditional math problem: Find the roots of a quadratic equation\n",
    "    - $x = \\frac{-b \\pm \\sqrt{b^2 - 4 a c}}{2 a}$\n",
    "    - in CS language, quadratc formula DECIDES the set\n",
    "- How about:\n",
    "    - ${x | \\sum_n a_n x^n = 0}$ ($a_n != 0$ for some n > 4)\n",
    "    - Does sthis have a solution?\n",
    "        - Yes, in the sense that it exists.\n",
    "        - Yes, in the sense that numerical algoriths exist for finding the roots of the equation.\n",
    "        - No, in the sense that there is no \"closed-form\" solution\n",
    "        \n",
    "- Computer science can be defined as a branch of mathematics that redefines the definition of what it means to solve a problem.\n",
    "    - If there is an algorithm that can produce the solution, then it is solvable.\n",
    "- Because it's a branch of computer science, we need to be thorough\n",
    "    - What would it take to prove that an algorithm exists?\n",
    "        1. What is an algorithm anyway?\n",
    "            - A sequence of operations\n",
    "        2. Operations executed by a machine\n",
    "            - What types of operations are allowed?\n",
    "- We need a model of computation (The answer is a **Turing Machine**, which we'll get to by the end of the week)"
   ]
  },
  {
   "cell_type": "markdown",
   "metadata": {},
   "source": []
  },
  {
   "cell_type": "markdown",
   "metadata": {},
   "source": []
  }
 ],
 "metadata": {
  "kernelspec": {
   "display_name": "Julia 1.5.3",
   "language": "julia",
   "name": "julia-1.5"
  },
  "language_info": {
   "file_extension": ".jl",
   "mimetype": "application/julia",
   "name": "julia",
   "version": "1.5.3"
  },
  "latex_envs": {
   "LaTeX_envs_menu_present": true,
   "autoclose": true,
   "autocomplete": true,
   "bibliofile": "biblio.bib",
   "cite_by": "apalike",
   "current_citInitial": 1,
   "eqLabelWithNumbers": true,
   "eqNumInitial": 1,
   "hotkeys": {
    "equation": "Ctrl-E",
    "itemize": "Ctrl-I"
   },
   "labels_anchors": false,
   "latex_user_defs": false,
   "report_style_numbering": false,
   "user_envs_cfg": false
  },
  "toc": {
   "base_numbering": 1,
   "nav_menu": {},
   "number_sections": true,
   "sideBar": true,
   "skip_h1_title": false,
   "title_cell": "Table of Contents",
   "title_sidebar": "Contents",
   "toc_cell": false,
   "toc_position": {},
   "toc_section_display": true,
   "toc_window_display": false
  },
  "varInspector": {
   "cols": {
    "lenName": 16,
    "lenType": 16,
    "lenVar": 40
   },
   "kernels_config": {
    "python": {
     "delete_cmd_postfix": "",
     "delete_cmd_prefix": "del ",
     "library": "var_list.py",
     "varRefreshCmd": "print(var_dic_list())"
    },
    "r": {
     "delete_cmd_postfix": ") ",
     "delete_cmd_prefix": "rm(",
     "library": "var_list.r",
     "varRefreshCmd": "cat(var_dic_list()) "
    }
   },
   "types_to_exclude": [
    "module",
    "function",
    "builtin_function_or_method",
    "instance",
    "_Feature"
   ],
   "window_display": false
  }
 },
 "nbformat": 4,
 "nbformat_minor": 4
}
