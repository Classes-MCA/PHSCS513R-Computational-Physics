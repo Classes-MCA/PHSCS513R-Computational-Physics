{
 "cells": [
  {
   "cell_type": "markdown",
   "metadata": {},
   "source": [
    "# Interpolation"
   ]
  },
  {
   "cell_type": "markdown",
   "metadata": {},
   "source": [
    "- Given $f(t_i)$ at $\\{t_0, t_1, ... t_{N-1}\\}$, estimate $f(t)$.\n",
    "\n",
    "- How is this possible? THere are many different $f(t)$ functions that have those same points.\n",
    "\n",
    "- We are going to assume a nice, smooth function. Why is this okay?\n",
    "    - Occam's Razor?"
   ]
  },
  {
   "cell_type": "markdown",
   "metadata": {},
   "source": [
    "## Analytic Functions"
   ]
  },
  {
   "cell_type": "markdown",
   "metadata": {},
   "source": [
    "- Two branches of advanced calculus\n",
    "    - Real Analysis\n",
    "        - \"Measureable\" functions\n",
    "        - Just because a function is measurable, doesn't mean that it is analytic\n",
    "    - Complex Analysis\n",
    "        - Focus on analytic functions\n",
    "            - Infinitely differentiable\n",
    "            \n",
    "- Definition of Analytic Functions\n",
    "    - A function $f(t)$ is analytic at a point $t_0$ if it has a convergent power series with a non-zero radius of convergence.\n",
    "\n",
    "$$f(t) = \\sum_{n=0}^\\infty c_n (t-t_0)^n$$\n",
    "\n",
    "Get the coefficients $c_n$ through Taylor's theorem.\n",
    "\n",
    "- Radius of Convergence $(R)$\n",
    "    - Distance to the nearest singularity in the complex plane\n",
    "    - Diverges after this distance\n",
    "    - Ratio Test\n",
    "        - $R \"=\" \\lim_{n \\rightarrow \\infty} \\left|\\frac{c_n}{c_{n+1}} \\right|$\n",
    "            - $\"=\"$ means it's related to, but not necessarily exactly\n",
    "            \n",
    "- \"This function is analytic at *this point* because the power series about *this point* converges.\n",
    "\n",
    "- Notation\n",
    "    - $F$: scale of $f(t) \\approx f(t_0)$\n",
    "    - $R$: scale of ... of ...\n",
    "    \n",
    "- Cauchy's Theorem (weird rigidities)\n",
    "    - Common theme: Properties of $f(t)$ at $t_0$, determine the behavior of $f(t)$ in a neighborhood of $t_0$\n",
    "        - This is what allows us to interpolate"
   ]
  },
  {
   "cell_type": "code",
   "execution_count": null,
   "metadata": {},
   "outputs": [],
   "source": []
  }
 ],
 "metadata": {
  "kernelspec": {
   "display_name": "Python 3",
   "language": "python",
   "name": "python3"
  },
  "language_info": {
   "codemirror_mode": {
    "name": "ipython",
    "version": 3
   },
   "file_extension": ".py",
   "mimetype": "text/x-python",
   "name": "python",
   "nbconvert_exporter": "python",
   "pygments_lexer": "ipython3",
   "version": "3.8.5"
  },
  "latex_envs": {
   "LaTeX_envs_menu_present": true,
   "autoclose": true,
   "autocomplete": true,
   "bibliofile": "biblio.bib",
   "cite_by": "apalike",
   "current_citInitial": 1,
   "eqLabelWithNumbers": true,
   "eqNumInitial": 1,
   "hotkeys": {
    "equation": "Ctrl-E",
    "itemize": "Ctrl-I"
   },
   "labels_anchors": false,
   "latex_user_defs": false,
   "report_style_numbering": false,
   "user_envs_cfg": false
  },
  "varInspector": {
   "cols": {
    "lenName": 16,
    "lenType": 16,
    "lenVar": 40
   },
   "kernels_config": {
    "python": {
     "delete_cmd_postfix": "",
     "delete_cmd_prefix": "del ",
     "library": "var_list.py",
     "varRefreshCmd": "print(var_dic_list())"
    },
    "r": {
     "delete_cmd_postfix": ") ",
     "delete_cmd_prefix": "rm(",
     "library": "var_list.r",
     "varRefreshCmd": "cat(var_dic_list()) "
    }
   },
   "types_to_exclude": [
    "module",
    "function",
    "builtin_function_or_method",
    "instance",
    "_Feature"
   ],
   "window_display": false
  }
 },
 "nbformat": 4,
 "nbformat_minor": 4
}
