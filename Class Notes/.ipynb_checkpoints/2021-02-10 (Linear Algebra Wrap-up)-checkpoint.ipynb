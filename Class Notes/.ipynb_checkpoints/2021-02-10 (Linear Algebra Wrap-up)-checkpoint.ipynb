{
 "cells": [
  {
   "cell_type": "markdown",
   "metadata": {},
   "source": [
    "# Solving Differential Equations using Linear Algebra"
   ]
  },
  {
   "cell_type": "markdown",
   "metadata": {},
   "source": [
    "$$\\nabla^2 \\phi = \\rho$$\n",
    "\n",
    "$$A \\vec{x} = \\vec{b}$$\n",
    "\n",
    "$\\nabla$ = operator\n",
    "\n",
    "$\\phi$ = function\n",
    "\n",
    "$\\rho$ = function\n",
    "\n",
    "Functions are infinite-dimensional vectors. If we can project an infinite-dimensional problem onto a finite space, then we can solve it using linear algebra techniques on the computer."
   ]
  },
  {
   "cell_type": "markdown",
   "metadata": {},
   "source": [
    "# Homework"
   ]
  },
  {
   "cell_type": "markdown",
   "metadata": {},
   "source": [
    "$$-u'' + V(x)u' = f(x)$$\n",
    "\n",
    "$$u(0) = u(1) = 0$$\n",
    "\n",
    "- $V(x) = \\gamma$\n",
    "\n",
    "- $f(x) = 1$\n",
    "\n",
    "1D version of a fluid dynamics problem."
   ]
  },
  {
   "cell_type": "markdown",
   "metadata": {},
   "source": [
    "## Strong formulation"
   ]
  },
  {
   "cell_type": "markdown",
   "metadata": {},
   "source": [
    "- Point-wise contraint through domain.\n",
    "    - You can literally check every single point in $x \\in [0,1]$ and make sure that it satisfies the PDE"
   ]
  },
  {
   "cell_type": "markdown",
   "metadata": {},
   "source": [
    "## Weak Formulation"
   ]
  },
  {
   "cell_type": "markdown",
   "metadata": {},
   "source": [
    "- Multiply by \"test\" function, $\\phi(x)$, integrate\n",
    "    - Assume $\\phi(x)$ is smooth\n",
    "    - Assume $\\phi(x) = \\phi(1) = 0$\n",
    "    - Take 602 to learn why (Adjoint boundary conditions)\n",
    "    \n",
    "$$-\\int_0^1 \\phi(x) u''(x)dx + \\int_0^1 \\phi(x)V(x)u(x)dx = \\int_0^1 \\phi(x)f(x)dx$$\n",
    "\n",
    "Integrate by parts...\n",
    "\n",
    "First term becomes:\n",
    "\n",
    "$$A_1(u,\\phi) = \\int_0^1 \\phi' u' dx$$\n",
    "\n",
    "$A_1$ is bi-linear form, meaning it takes two functions and returns a number, and is linear in both functions?\n",
    "\n",
    "Second term becomes:\n",
    "\n",
    "$$A_2(u,\\phi) = \\int_0^1 \\phi V(x) u dx$$\n",
    "\n",
    "Right-hand side becomes\n",
    "\n",
    "$$F(\\phi) = \\int \\phi f(x) dx$$\n",
    "\n",
    "Overall, we have\n",
    "\n",
    "$$A_1(u,\\phi) + A_2(u,\\phi) = F(\\phi)$$\n",
    "\n",
    "This is what is known as the weak form of the PDE"
   ]
  },
  {
   "cell_type": "markdown",
   "metadata": {},
   "source": [
    "## Galerkin's Method"
   ]
  },
  {
   "cell_type": "markdown",
   "metadata": {},
   "source": [
    "- Choose $\\phi$ from a finite-dimensional subspace\n",
    "    - $\\{ \\phi_1(x), \\phi_2(x),... \\phi_m(x) \\}$\n",
    "    - If $m = \\infty$, then the equation is exactly solved\n",
    "        - Not possible on a computer\n",
    "\n",
    "- Express solution as a linear combination of $\\phi$ values\n",
    "\n",
    "$$u(x) = \\sum_{i = 1}^m u_i' \\phi_i(x)$$\n",
    "\n",
    "- $u_i$ values are Real numbers\n",
    "\n",
    "- Weak form becomes\n",
    "\n",
    "$$A(u,\\phi) = F(\\phi)$$\n",
    "\n",
    "$$A(\\sum_{i = 1}^m u_i' \\phi_i(x),\\phi) = F(\\phi)$$\n",
    "\n",
    "$$\\sum_{i = 1}^m u_i A(\\phi_i,\\phi_j) = F(\\phi_j)$$\n",
    "\n",
    "- Determine matrix $A_{ji} = A(\\phi_i, \\phi_j)$"
   ]
  },
  {
   "cell_type": "markdown",
   "metadata": {},
   "source": [
    "## Finite-Element Method"
   ]
  },
  {
   "cell_type": "markdown",
   "metadata": {},
   "source": [
    "- Choosing $\\phi_i$ values\n",
    "- We want a sparse matrix\n",
    "- Use Hat functions\n",
    "\n",
    "    1. \"Triangulate\" domain = Make a grid\n",
    "    \n",
    "    $(x_0, x_1, ... x_{m+2})$\n",
    "    \n",
    "    $x_0 = 0, x_{m+2} = 1$\n",
    "    \n",
    "    3. Calculate matrices\n",
    "    \n",
    "    $\\hat{A} = \\hat{A_1} + \\gamma \\hat{A_2}$\n",
    "    \n",
    "    4. Solve for different values of $\\gamma$\n",
    "    \n",
    "    $\\hat{A}\\hat{x} = \\hat{b}$\n",
    "    \n",
    "    $\\hat{x} = \\begin{bmatrix} u_1 \\\\u_2 \\\\ ... \\\\ u_m \\end{bmatrix}$"
   ]
  },
  {
   "cell_type": "markdown",
   "metadata": {},
   "source": [
    "Homework: Use the triangular $\\phi$ values to solve for $A$ and $f$ values. You should be able to do all the integrals with pencil and paper and then implement them in code."
   ]
  }
 ],
 "metadata": {
  "author": "",
  "kernelspec": {
   "display_name": "Python 3",
   "language": "python",
   "name": "python3"
  },
  "language_info": {
   "codemirror_mode": {
    "name": "ipython",
    "version": 3
   },
   "file_extension": ".py",
   "mimetype": "text/x-python",
   "name": "python",
   "nbconvert_exporter": "python",
   "pygments_lexer": "ipython3",
   "version": "3.8.5"
  },
  "latex_envs": {
   "LaTeX_envs_menu_present": true,
   "autoclose": true,
   "autocomplete": true,
   "bibliofile": "biblio.bib",
   "cite_by": "apalike",
   "current_citInitial": 1,
   "eqLabelWithNumbers": true,
   "eqNumInitial": 1,
   "hotkeys": {
    "equation": "Ctrl-E",
    "itemize": "Ctrl-I"
   },
   "labels_anchors": false,
   "latex_user_defs": false,
   "report_style_numbering": false,
   "user_envs_cfg": false
  },
  "varInspector": {
   "cols": {
    "lenName": 16,
    "lenType": 16,
    "lenVar": 40
   },
   "kernels_config": {
    "python": {
     "delete_cmd_postfix": "",
     "delete_cmd_prefix": "del ",
     "library": "var_list.py",
     "varRefreshCmd": "print(var_dic_list())"
    },
    "r": {
     "delete_cmd_postfix": ") ",
     "delete_cmd_prefix": "rm(",
     "library": "var_list.r",
     "varRefreshCmd": "cat(var_dic_list()) "
    }
   },
   "types_to_exclude": [
    "module",
    "function",
    "builtin_function_or_method",
    "instance",
    "_Feature"
   ],
   "window_display": false
  }
 },
 "nbformat": 4,
 "nbformat_minor": 4
}
