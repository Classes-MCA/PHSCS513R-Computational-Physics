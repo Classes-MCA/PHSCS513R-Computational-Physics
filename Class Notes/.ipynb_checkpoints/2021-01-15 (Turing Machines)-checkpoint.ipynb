{
 "cells": [
  {
   "cell_type": "markdown",
   "metadata": {},
   "source": [
    "# Stacks"
   ]
  },
  {
   "cell_type": "markdown",
   "metadata": {},
   "source": [
    "- When you get a \"stack trace\" for an error in your code, that is the memory of every function call that the computer made in order\n",
    "    - This is just an example of a stack, not THE example\n",
    "- This form of memory has a lot of limitations"
   ]
  },
  {
   "cell_type": "markdown",
   "metadata": {},
   "source": [
    "# Turing Machines"
   ]
  },
  {
   "cell_type": "markdown",
   "metadata": {},
   "source": [
    "- Introduces the idea of a tape\n",
    "    - You have all the memory laid out before you, and you have a device that can access any bit of the memory at any time"
   ]
  },
  {
   "cell_type": "markdown",
   "metadata": {},
   "source": [
    "**Main differences between Turing Machines and Finite Automata**\n",
    "\n",
    "   1. Can both read from and write to the tape\n",
    "   2. Read/Write head can move both left or right\n",
    "   3. Tape is infinite\n",
    "   4. Accept/Reject states that take effect immediately"
   ]
  },
  {
   "cell_type": "markdown",
   "metadata": {},
   "source": [
    "## Definition"
   ]
  },
  {
   "cell_type": "markdown",
   "metadata": {},
   "source": [
    "7-tuple: ($Q$, $\\Sigma$,$\\Gamma$,$\\delta$,$q_0$,$q_{accept}$,$q_{reject}$)\n",
    "\n",
    "1. $Q$ = set of states (finite)\n",
    "2. $\\Sigma$ = input alphabet (does not contain the blank symbol)\n",
    "3. $\\Gamma$ = tape alphabet, includes blank symbol\n",
    "    - things that we can write on the tape\n",
    "    - $\\Sigma$ is a *proper* subset of $\\Gamma$ ($\\Sigma \\subset \\Gamma$)because $\\Gamma$ contains the blank symbol while $\\Sigma$ does not\n",
    "        - **Proper Subset**: $\\Sigma$ is not equal to $\\Gamma$\n",
    "        - **Improper Subset**: $\\Sigma$ is equal to $\\Gamma$\n",
    "4. $\\delta^1 Q \\times \\Gamma \\rightarrow Q \\times \\Gamma \\times \\left{ L, R \\right}$\n",
    "    - $\\left{ L, R \\right}$ tells the head to move either left or right\n",
    "5. $q_0 \\in Q$ (start state)\n",
    "6. $q_{accept} \\in Q$ (end state)\n",
    "7. $q_{reject} \\in Q$ (reject state)"
   ]
  },
  {
   "cell_type": "markdown",
   "metadata": {},
   "source": [
    "## How a Turing Maching, M, Does a Calculation"
   ]
  },
  {
   "cell_type": "markdown",
   "metadata": {},
   "source": [
    "- M receives input $w = w_1, w_2, ... w_n \\in \\Sigma^*$\n",
    "    - $^*$ operator means that you concatonate all strings\n",
    "        - All possible combinations of the language $\\Sigma$\n",
    "        - It's an operator that lets you construct a new set that uses any combination of strings from the original $\\Sigma$ language. Very similar to using $^*$ in searching for files on my comptuer.\n",
    "    - Input is going to be on the $n-$leftmost square of the tape\n",
    "- Head starts on the leftmost square of the tape\n",
    "- Proceed according to the transition function of M\n",
    "- Iterate this until we arrive at either a reject/accept state"
   ]
  },
  {
   "cell_type": "code",
   "execution_count": null,
   "metadata": {},
   "outputs": [],
   "source": []
  }
 ],
 "metadata": {
  "author": "",
  "kernelspec": {
   "display_name": "Python 3",
   "language": "python",
   "name": "python3"
  },
  "language_info": {
   "codemirror_mode": {
    "name": "ipython",
    "version": 3
   },
   "file_extension": ".py",
   "mimetype": "text/x-python",
   "name": "python",
   "nbconvert_exporter": "python",
   "pygments_lexer": "ipython3",
   "version": "3.8.5"
  },
  "latex_envs": {
   "LaTeX_envs_menu_present": true,
   "autoclose": true,
   "autocomplete": true,
   "bibliofile": "biblio.bib",
   "cite_by": "apalike",
   "current_citInitial": 1,
   "eqLabelWithNumbers": true,
   "eqNumInitial": 1,
   "hotkeys": {
    "equation": "Ctrl-E",
    "itemize": "Ctrl-I"
   },
   "labels_anchors": false,
   "latex_user_defs": false,
   "report_style_numbering": false,
   "user_envs_cfg": false
  },
  "toc": {
   "base_numbering": 1,
   "nav_menu": {},
   "number_sections": true,
   "sideBar": true,
   "skip_h1_title": false,
   "title_cell": "Table of Contents",
   "title_sidebar": "Contents",
   "toc_cell": false,
   "toc_position": {},
   "toc_section_display": true,
   "toc_window_display": false
  },
  "varInspector": {
   "cols": {
    "lenName": 16,
    "lenType": 16,
    "lenVar": 40
   },
   "kernels_config": {
    "python": {
     "delete_cmd_postfix": "",
     "delete_cmd_prefix": "del ",
     "library": "var_list.py",
     "varRefreshCmd": "print(var_dic_list())"
    },
    "r": {
     "delete_cmd_postfix": ") ",
     "delete_cmd_prefix": "rm(",
     "library": "var_list.r",
     "varRefreshCmd": "cat(var_dic_list()) "
    }
   },
   "types_to_exclude": [
    "module",
    "function",
    "builtin_function_or_method",
    "instance",
    "_Feature"
   ],
   "window_display": false
  }
 },
 "nbformat": 4,
 "nbformat_minor": 4
}
