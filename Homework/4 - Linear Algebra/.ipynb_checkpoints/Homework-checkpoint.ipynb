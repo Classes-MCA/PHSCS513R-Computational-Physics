{
 "cells": [
  {
   "cell_type": "markdown",
   "metadata": {},
   "source": [
    "# Linear Algebra Homework"
   ]
  },
  {
   "cell_type": "code",
   "execution_count": 1,
   "metadata": {},
   "outputs": [],
   "source": [
    "import numpy as np\n",
    "import scipy.linalg as la"
   ]
  },
  {
   "cell_type": "markdown",
   "metadata": {},
   "source": [
    "## Problem 1: Condition Number, Accuracy, and Iterative Updating"
   ]
  },
  {
   "cell_type": "code",
   "execution_count": 2,
   "metadata": {},
   "outputs": [],
   "source": [
    "# Defining the arrays\n",
    "\n",
    "A = np.array([[0.780, 0.563], [0.913, 0.659]])\n",
    "b = np.array([[0.217],[0.254]])\n",
    "x = np.array([[1],[-1]])\n",
    "xalpha = np.array([[0.999],[-1.001]])\n",
    "xbeta = np.array([[0.341],[-0.087]])"
   ]
  },
  {
   "cell_type": "markdown",
   "metadata": {},
   "source": [
    "### Part A"
   ]
  },
  {
   "cell_type": "code",
   "execution_count": 15,
   "metadata": {},
   "outputs": [
    {
     "name": "stdout",
     "output_type": "stream",
     "text": [
      "r_alpha =  [[0.001343]\n",
      " [0.001572]]\n",
      "r_beta =  [[1.e-06]\n",
      " [0.e+00]]\n"
     ]
    }
   ],
   "source": [
    "ralpha = b - A@xalpha\n",
    "rbeta = b - A@xbeta\n",
    "\n",
    "print(\"r_alpha = \",ralpha)\n",
    "print(\"r_beta = \",rbeta)"
   ]
  },
  {
   "cell_type": "markdown",
   "metadata": {},
   "source": [
    "The less accurate solution produced the smaller residual."
   ]
  },
  {
   "cell_type": "markdown",
   "metadata": {},
   "source": [
    "### Part B"
   ]
  },
  {
   "cell_type": "code",
   "execution_count": 8,
   "metadata": {},
   "outputs": [
    {
     "name": "stdout",
     "output_type": "stream",
     "text": [
      "U = \n",
      "[[-0.64955581 -0.76031391]\n",
      " [-0.76031391  0.64955581]]\n",
      "s = \n",
      "[1.48095206e+00 6.75241305e-07]\n",
      "VT = \n",
      "[[-0.81084336 -0.58526323]\n",
      " [-0.58526323  0.81084336]]\n"
     ]
    }
   ],
   "source": [
    "U, s, VT = la.svd(A, full_matrices = True)\n",
    "print(\"U = \")\n",
    "print(U)\n",
    "print(\"s = \") # The singular values\n",
    "print(s)\n",
    "print(\"VT = \")\n",
    "print(VT)"
   ]
  },
  {
   "cell_type": "code",
   "execution_count": 65,
   "metadata": {},
   "outputs": [
    {
     "name": "stdout",
     "output_type": "stream",
     "text": [
      "Condition Number =  2193218.9997129813\n",
      "Reciprocal =  4.559508193804934e-07\n"
     ]
    }
   ],
   "source": [
    "conditionNumber = np.max(s)/np.min(s);\n",
    "print(\"Condition Number = \", conditionNumber)\n",
    "print(\"Reciprocal = \", 1/conditionNumber)"
   ]
  },
  {
   "cell_type": "code",
   "execution_count": 72,
   "metadata": {},
   "outputs": [
    {
     "name": "stdout",
     "output_type": "stream",
     "text": [
      "V^T * (xalpha - x) =\n",
      "[[ 0.00139611]\n",
      " [-0.00022558]]\n",
      "\n",
      "V^T * (xbeta - x) =\n",
      "[[4.38606914e-07]\n",
      " [1.12598845e+00]]\n"
     ]
    }
   ],
   "source": [
    "print(\"V^T * (xalpha - x) =\")\n",
    "print(VT@(xalpha - x))\n",
    "\n",
    "print(\"\\nV^T * (xbeta - x) =\")\n",
    "print(VT@(xbeta - x))"
   ]
  },
  {
   "cell_type": "markdown",
   "metadata": {},
   "source": [
    "From the above result, we see that $\\vec{x_\\alpha}$ has most of its error associated with the large singular value, and $\\vec{x_\\beta}$ has most of its error associated with the small singular value."
   ]
  },
  {
   "cell_type": "markdown",
   "metadata": {},
   "source": [
    "### Part C"
   ]
  },
  {
   "cell_type": "code",
   "execution_count": 39,
   "metadata": {},
   "outputs": [
    {
     "name": "stdout",
     "output_type": "stream",
     "text": [
      "Difference between the black box and exact solutions:\n",
      "[[-2.30988562e-11]\n",
      " [ 3.20018456e-11]]\n",
      "\n",
      "Dividing that answer by machine accuracy of 2.2 x 10^(-16):\n",
      "[[-104994.80073246]\n",
      " [ 145462.93462688]]\n",
      "\n",
      "Well, I wouldn't exactly say that that is close to machine accuracy...\n",
      "\n",
      "Calculating Ax - b for the two solutions:\n",
      "Exact:\n",
      " [[8.32667268e-17]\n",
      " [0.00000000e+00]]\n",
      "Black Box:\n",
      " [[-2.77555756e-17]\n",
      " [ 0.00000000e+00]]\n",
      "\n",
      "Those answers both seem to satisfy the equation to less than machine accuracy.\n",
      "The problem must then be rounding errors in calculating A and b.\n"
     ]
    }
   ],
   "source": [
    "x_blackbox = la.solve(A,b)\n",
    "difference = x_blackbox - x;\n",
    "machine = 2.2e-16;\n",
    "\n",
    "print(\"Difference between the black box and exact solutions:\")\n",
    "print(difference)\n",
    "\n",
    "print(\"\\nDividing that answer by machine accuracy of 2.2 x 10^(-16):\")\n",
    "print(difference/machine)\n",
    "\n",
    "print(\"\\nWell, I wouldn't exactly say that that is close to machine accuracy...\")\n",
    "\n",
    "print(\"\\nCalculating Ax - b for the two solutions:\")\n",
    "print(\"Exact:\\n\",A@x - b)\n",
    "print(\"Black Box:\\n\",A@x_blackbox - b)\n",
    "print(\"\\nThose answers both seem to satisfy the equation to less than machine accuracy.\")\n",
    "print(\"The problem must then be rounding errors in calculating A and b.\")"
   ]
  },
  {
   "cell_type": "markdown",
   "metadata": {},
   "source": [
    "### Part D"
   ]
  },
  {
   "cell_type": "code",
   "execution_count": 47,
   "metadata": {},
   "outputs": [
    {
     "name": "stdout",
     "output_type": "stream",
     "text": [
      "Original x-beta:\n",
      " [[ 0.341]\n",
      " [-0.087]]\n",
      "\n",
      "r_beta:\n",
      " [[1.e-06]\n",
      " [0.e+00]]\n",
      "\n",
      "Improved x-value:\n",
      " [[ 1.]\n",
      " [-1.]]\n",
      "This is an improvement over the original x-beta value.\n"
     ]
    }
   ],
   "source": [
    "print(\"Original x-beta:\\n\",xbeta)\n",
    "\n",
    "print(\"\\nr_beta:\\n\",rbeta)\n",
    "\n",
    "delta_x = la.solve(A,-rbeta)\n",
    "\n",
    "x_improved = xbeta - delta_x\n",
    "\n",
    "print(\"\\nImproved x-value:\\n\",x_improved)\n",
    "\n",
    "print(\"This is an improvement over the original x-beta value.\")"
   ]
  },
  {
   "cell_type": "markdown",
   "metadata": {},
   "source": [
    "Now we want to try finding $\\vec{r_\\beta}$ analytically, which is shown below:"
   ]
  },
  {
   "cell_type": "code",
   "execution_count": 50,
   "metadata": {},
   "outputs": [
    {
     "name": "stdout",
     "output_type": "stream",
     "text": [
      "r_beta:\n",
      " [[1.e-06]\n",
      " [0.e+00]]\n"
     ]
    }
   ],
   "source": [
    "rbeta = b - A@xbeta # Exact same definition as before\n",
    "print(\"r_beta:\\n\",rbeta)"
   ]
  },
  {
   "cell_type": "markdown",
   "metadata": {},
   "source": [
    "So now we will round to the correct residual values:"
   ]
  },
  {
   "cell_type": "code",
   "execution_count": 51,
   "metadata": {},
   "outputs": [
    {
     "name": "stdout",
     "output_type": "stream",
     "text": [
      "r_beta_exact:\n",
      " [[1.e-06]\n",
      " [0.e+00]]\n"
     ]
    }
   ],
   "source": [
    "rbeta_exact = np.array([[1.0e-6],[0.0]])\n",
    "print(\"r_beta_exact:\\n\",rbeta_exact)"
   ]
  },
  {
   "cell_type": "markdown",
   "metadata": {},
   "source": [
    "Calculating the new $\\delta \\vec{x}$ value gives us:"
   ]
  },
  {
   "cell_type": "code",
   "execution_count": 57,
   "metadata": {},
   "outputs": [
    {
     "name": "stdout",
     "output_type": "stream",
     "text": [
      "Improved x-value:\n",
      " [[-0.659]\n",
      " [ 0.913]]\n"
     ]
    }
   ],
   "source": [
    "delta_x_exact = la.inv(A)@b\n",
    "\n",
    "x_improved_exact = xbeta - delta_x_exact\n",
    "\n",
    "print(\"Improved x-value:\\n\",x_improved_exact)"
   ]
  },
  {
   "cell_type": "markdown",
   "metadata": {},
   "source": [
    "That result is an improvement over the original $\\vec{x_\\beta}$, though not as dramatic of an improvement as the former was."
   ]
  },
  {
   "cell_type": "markdown",
   "metadata": {},
   "source": [
    "## Problem 2: The Sherman-Morrison Formula"
   ]
  },
  {
   "cell_type": "markdown",
   "metadata": {},
   "source": [
    "First, we will define the matrices T and C:"
   ]
  },
  {
   "cell_type": "code",
   "execution_count": 92,
   "metadata": {},
   "outputs": [
    {
     "name": "stdout",
     "output_type": "stream",
     "text": [
      "T = \n",
      " [[2 1 0 0 0]\n",
      " [1 2 1 0 0]\n",
      " [0 1 2 1 0]\n",
      " [0 0 1 2 1]\n",
      " [0 0 0 1 2]]\n",
      "C = \n",
      " [[2 1 0 0 1]\n",
      " [1 2 1 0 0]\n",
      " [0 1 2 1 0]\n",
      " [0 0 1 2 1]\n",
      " [1 0 0 1 2]]\n"
     ]
    }
   ],
   "source": [
    "T = np.mat('[2 1 0 0 0; 1 2 1 0 0; 0 1 2 1 0; 0 0 1 2 1; 0 0 0 1 2]')\n",
    "C = np.mat('[2 1 0 0 1; 1 2 1 0 0; 0 1 2 1 0; 0 0 1 2 1; 1 0 0 1 2]')\n",
    "\n",
    "print(\"T = \\n\",T)\n",
    "print(\"C = \\n\",C)"
   ]
  },
  {
   "cell_type": "markdown",
   "metadata": {},
   "source": [
    "Now we will compute their inverses:"
   ]
  },
  {
   "cell_type": "code",
   "execution_count": 89,
   "metadata": {},
   "outputs": [
    {
     "name": "stdout",
     "output_type": "stream",
     "text": [
      "Tinv = \n",
      " [[ 0.83333333 -0.66666667  0.5        -0.33333333  0.16666667]\n",
      " [-0.66666667  1.33333333 -1.          0.66666667 -0.33333333]\n",
      " [ 0.5        -1.          1.5        -1.          0.5       ]\n",
      " [-0.33333333  0.66666667 -1.          1.33333333 -0.66666667]\n",
      " [ 0.16666667 -0.33333333  0.5        -0.66666667  0.83333333]]\n",
      "Cinv = \n",
      " [[ 1.25 -0.75  0.25  0.25 -0.75]\n",
      " [-0.75  1.25 -0.75  0.25  0.25]\n",
      " [ 0.25 -0.75  1.25 -0.75  0.25]\n",
      " [ 0.25  0.25 -0.75  1.25 -0.75]\n",
      " [-0.75  0.25  0.25 -0.75  1.25]]\n"
     ]
    }
   ],
   "source": [
    "Tinv = la.inv(T)\n",
    "Cinv = la.inv(C)\n",
    "\n",
    "print(\"Tinv = \\n\",Tinv)\n",
    "print(\"Cinv = \\n\",Cinv)"
   ]
  },
  {
   "cell_type": "markdown",
   "metadata": {},
   "source": [
    "And now we will compute the difference between the two"
   ]
  },
  {
   "cell_type": "code",
   "execution_count": 90,
   "metadata": {},
   "outputs": [
    {
     "name": "stdout",
     "output_type": "stream",
     "text": [
      "Difference = \n",
      " [[-0.41666667  0.08333333  0.25       -0.58333333  0.91666667]\n",
      " [ 0.08333333  0.08333333 -0.25        0.41666667 -0.58333333]\n",
      " [ 0.25       -0.25        0.25       -0.25        0.25      ]\n",
      " [-0.58333333  0.41666667 -0.25        0.08333333  0.08333333]\n",
      " [ 0.91666667 -0.58333333  0.25        0.08333333 -0.41666667]]\n"
     ]
    }
   ],
   "source": [
    "delta = Tinv - Cinv\n",
    "print(\"Difference = \\n\",delta)"
   ]
  },
  {
   "cell_type": "markdown",
   "metadata": {},
   "source": [
    "Checking this with the Sherman-Morris formula, where the difference should be\n",
    "\n",
    "$$\\Delta = \\frac{\\vec{z} \\otimes \\vec{w}}{1 + \\lambda}$$\n",
    "\n",
    "where\n",
    "\n",
    "$$\\vec{z} = A^{-1} \\cdot \\vec{u}$$\n",
    "\n",
    "$$\\vec{w} = \\vec{v} \\cdot A^{-1}$$\n",
    "\n",
    "$$\\lambda = \\vec{v} \\cdot \\vec{z}$$\n",
    "\n",
    "And vectors $\\vec{u}$ and $\\vec{v}$ are defined such that\n",
    "\n",
    "$$C = T + \\vec{u} \\otimes \\vec{v}$$\n",
    "\n",
    "where the $\\otimes$ symbol denotes a tensor product."
   ]
  },
  {
   "cell_type": "code",
   "execution_count": 143,
   "metadata": {},
   "outputs": [
    {
     "name": "stdout",
     "output_type": "stream",
     "text": [
      "u = \n",
      " [[1]\n",
      " [0]\n",
      " [0]\n",
      " [0]\n",
      " [1]]\n",
      "\n",
      "v = \n",
      " [[1 0 0 0 1]]\n",
      "\n",
      "kron(u,v) = \n",
      " [[1 0 0 0 1]\n",
      " [0 0 0 0 0]\n",
      " [0 0 0 0 0]\n",
      " [0 0 0 0 0]\n",
      " [1 0 0 0 1]]\n",
      "\n",
      "T + kron(u,v) = \n",
      " [[3 1 0 0 1]\n",
      " [1 2 1 0 0]\n",
      " [0 1 2 1 0]\n",
      " [0 0 1 2 1]\n",
      " [1 0 0 1 3]]\n"
     ]
    }
   ],
   "source": [
    "u = np.mat('[1; 0; 0; 0; 1]')\n",
    "v = np.mat('[1 0 0 0 1]')\n",
    "\n",
    "print(\"u = \\n\",u)\n",
    "\n",
    "print(\"\\nv = \\n\",v)\n",
    "\n",
    "print(\"\\nkron(u,v) = \\n\",la.kron(u,v))\n",
    "\n",
    "print(\"\\nT + kron(u,v) = \\n\",T + la.kron(u,v))"
   ]
  },
  {
   "cell_type": "code",
   "execution_count": 153,
   "metadata": {},
   "outputs": [
    {
     "name": "stdout",
     "output_type": "stream",
     "text": [
      "Difference = \n",
      " [[ 0.33333333 -0.33333333  0.33333333 -0.33333333  0.33333333]\n",
      " [-0.33333333  0.33333333 -0.33333333  0.33333333 -0.33333333]\n",
      " [ 0.33333333 -0.33333333  0.33333333 -0.33333333  0.33333333]\n",
      " [-0.33333333  0.33333333 -0.33333333  0.33333333 -0.33333333]\n",
      " [ 0.33333333 -0.33333333  0.33333333 -0.33333333  0.33333333]]\n",
      "[[ 5.00000000e-01 -3.33333333e-01  1.66666667e-01  5.55111512e-17\n",
      "  -1.66666667e-01]\n",
      " [-3.33333333e-01  1.00000000e+00 -6.66666667e-01  3.33333333e-01\n",
      "   0.00000000e+00]\n",
      " [ 1.66666667e-01 -6.66666667e-01  1.16666667e+00 -6.66666667e-01\n",
      "   1.66666667e-01]\n",
      " [ 0.00000000e+00  3.33333333e-01 -6.66666667e-01  1.00000000e+00\n",
      "  -3.33333333e-01]\n",
      " [-1.66666667e-01 -5.55111512e-17  1.66666667e-01 -3.33333333e-01\n",
      "   5.00000000e-01]]\n"
     ]
    }
   ],
   "source": [
    "z = la.inv(T)@u\n",
    "w = v@la.inv(T)\n",
    "lam = v@z\n",
    "\n",
    "delta_sherman = la.kron(z,w) / (1 + lam)\n",
    "\n",
    "print(\"Difference = \\n\",delta_sherman)\n",
    "\n",
    "print(Tinv - delta_sherman)"
   ]
  }
 ],
 "metadata": {
  "kernelspec": {
   "display_name": "Python 3",
   "language": "python",
   "name": "python3"
  },
  "language_info": {
   "codemirror_mode": {
    "name": "ipython",
    "version": 3
   },
   "file_extension": ".py",
   "mimetype": "text/x-python",
   "name": "python",
   "nbconvert_exporter": "python",
   "pygments_lexer": "ipython3",
   "version": "3.8.5"
  },
  "latex_envs": {
   "LaTeX_envs_menu_present": true,
   "autoclose": true,
   "autocomplete": true,
   "bibliofile": "biblio.bib",
   "cite_by": "apalike",
   "current_citInitial": 1,
   "eqLabelWithNumbers": true,
   "eqNumInitial": 1,
   "hotkeys": {
    "equation": "Ctrl-E",
    "itemize": "Ctrl-I"
   },
   "labels_anchors": false,
   "latex_user_defs": false,
   "report_style_numbering": false,
   "user_envs_cfg": false
  },
  "toc": {
   "base_numbering": 1,
   "nav_menu": {},
   "number_sections": true,
   "sideBar": true,
   "skip_h1_title": false,
   "title_cell": "Table of Contents",
   "title_sidebar": "Contents",
   "toc_cell": false,
   "toc_position": {},
   "toc_section_display": true,
   "toc_window_display": false
  },
  "varInspector": {
   "cols": {
    "lenName": 16,
    "lenType": 16,
    "lenVar": 40
   },
   "kernels_config": {
    "python": {
     "delete_cmd_postfix": "",
     "delete_cmd_prefix": "del ",
     "library": "var_list.py",
     "varRefreshCmd": "print(var_dic_list())"
    },
    "r": {
     "delete_cmd_postfix": ") ",
     "delete_cmd_prefix": "rm(",
     "library": "var_list.r",
     "varRefreshCmd": "cat(var_dic_list()) "
    }
   },
   "types_to_exclude": [
    "module",
    "function",
    "builtin_function_or_method",
    "instance",
    "_Feature"
   ],
   "window_display": false
  }
 },
 "nbformat": 4,
 "nbformat_minor": 4
}
