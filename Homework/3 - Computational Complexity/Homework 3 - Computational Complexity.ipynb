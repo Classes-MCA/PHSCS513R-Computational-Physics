{
 "cells": [
  {
   "cell_type": "markdown",
   "metadata": {},
   "source": [
    "# Problem 1"
   ]
  },
  {
   "cell_type": "markdown",
   "metadata": {},
   "source": [
    "## Part A"
   ]
  },
  {
   "cell_type": "markdown",
   "metadata": {},
   "source": [
    "I'll use the `time` library, which measures time since the epoch. Calling the time before the function and after the function, and then subtracting the two values will give the time taken to run the function."
   ]
  },
  {
   "cell_type": "markdown",
   "metadata": {},
   "source": [
    "### Example Time Calculation"
   ]
  },
  {
   "cell_type": "code",
   "execution_count": 1,
   "metadata": {},
   "outputs": [
    {
     "name": "stdout",
     "output_type": "stream",
     "text": [
      "0.0003631114959716797\n"
     ]
    }
   ],
   "source": [
    "from time import *\n",
    "import numpy as np\n",
    "\n",
    "a = time()\n",
    "\n",
    "x = np.linspace(0,100,101);\n",
    "\n",
    "b = time()\n",
    "\n",
    "difference = b - a\n",
    "\n",
    "print(difference)"
   ]
  },
  {
   "cell_type": "markdown",
   "metadata": {},
   "source": [
    "## Parts B & C"
   ]
  },
  {
   "cell_type": "markdown",
   "metadata": {},
   "source": [
    "I wrote a script to solve this both ways. This uses matrices that are 100 x 100 and solves the matrix equation 1000 times, then averages."
   ]
  },
  {
   "cell_type": "code",
   "execution_count": 2,
   "metadata": {},
   "outputs": [
    {
     "name": "stdout",
     "output_type": "stream",
     "text": [
      "Inverse Method:  0.0008504364490509033\n",
      "Numpy Linear Algebra Solver Method:  0.0002674200534820557\n"
     ]
    }
   ],
   "source": [
    "run Problem_1_b_c.py"
   ]
  },
  {
   "cell_type": "markdown",
   "metadata": {},
   "source": [
    "The ratio between the two is given below:"
   ]
  },
  {
   "cell_type": "code",
   "execution_count": 3,
   "metadata": {},
   "outputs": [
    {
     "name": "stdout",
     "output_type": "stream",
     "text": [
      "3.1801521164080127\n"
     ]
    }
   ],
   "source": [
    "ratio = tavg_inv / tavg_imp\n",
    "print(ratio)"
   ]
  },
  {
   "cell_type": "markdown",
   "metadata": {},
   "source": [
    "## Part D"
   ]
  },
  {
   "cell_type": "code",
   "execution_count": 4,
   "metadata": {},
   "outputs": [
    {
     "name": "stdout",
     "output_type": "stream",
     "text": [
      "n =  4\n",
      "Inverse Method:  4.3511390686035156e-05\n",
      "Numpy Linear Algebra Solver Method:  2.5987625122070312e-05\n",
      "n =  8\n",
      "Inverse Method:  0.00023865699768066406\n",
      "Numpy Linear Algebra Solver Method:  6.341934204101562e-05\n",
      "n =  16\n",
      "Inverse Method:  0.00022995471954345703\n",
      "Numpy Linear Algebra Solver Method:  4.398822784423828e-05\n",
      "n =  32\n",
      "Inverse Method:  0.00023603439331054688\n",
      "Numpy Linear Algebra Solver Method:  7.200241088867188e-05\n",
      "n =  64\n",
      "Inverse Method:  0.0010600090026855469\n",
      "Numpy Linear Algebra Solver Method:  0.00023996829986572266\n",
      "n =  128\n",
      "Inverse Method:  0.001326918601989746\n",
      "Numpy Linear Algebra Solver Method:  0.00015664100646972656\n",
      "n =  256\n",
      "Inverse Method:  0.0045670270919799805\n",
      "Numpy Linear Algebra Solver Method:  0.001592874526977539\n",
      "n =  512\n",
      "Inverse Method:  0.012356996536254883\n",
      "Numpy Linear Algebra Solver Method:  0.0033004283905029297\n",
      "n =  1024\n",
      "Inverse Method:  0.10994851589202881\n",
      "Numpy Linear Algebra Solver Method:  0.03925442695617676\n",
      "n =  2048\n",
      "Inverse Method:  0.5965710878372192\n",
      "Numpy Linear Algebra Solver Method:  0.17074990272521973\n",
      "n =  4096\n",
      "Inverse Method:  4.746130347251892\n",
      "Numpy Linear Algebra Solver Method:  1.022537112236023\n",
      "n =  8192\n",
      "Inverse Method:  22.426724076271057\n",
      "Numpy Linear Algebra Solver Method:  4.802940011024475\n"
     ]
    },
    {
     "data": {
      "image/png": "[encoded data removed]",
      "text/plain": [
       "<Figure size 432x288 with 1 Axes>"
      ]
     },
     "metadata": {
      "needs_background": "light"
     },
     "output_type": "display_data"
    },
    {
     "name": "stdout",
     "output_type": "stream",
     "text": [
      "Finite-differencing the last four points in each (in logarithmic space):\n",
      "Inverse Method Exponent:  2.5574156524146088\n",
      "Numpy Method Exponent:  2.3116395382031034\n"
     ]
    }
   ],
   "source": [
    "run Problem_1_d.py"
   ]
  },
  {
   "cell_type": "markdown",
   "metadata": {},
   "source": [
    "It looks like they have approximately the same asymptotic computational complexity."
   ]
  },
  {
   "cell_type": "markdown",
   "metadata": {},
   "source": [
    "# Problem 2"
   ]
  },
  {
   "cell_type": "markdown",
   "metadata": {},
   "source": [
    "## Part A"
   ]
  },
  {
   "cell_type": "markdown",
   "metadata": {},
   "source": [
    "**Question:** *Given two proposed factors of an $N$ digit integer, argue that the number of computer operations needed to verify whether their product is correct is less than a constant times $N^2$*:\n",
    "\n",
    "**Answer:** This problem is basically just asking whether scalar multiplication can be done in less than $N^2$ operations, where $N$ is the number of digits in the final answer. We can do long multiplication just like we learned in grade school, but instead of waiting until the end we can constantly add the solutions from each step together. This reduces the number of step required to solve the problem. I don't really understand how to calculate the actual value of the exponent or whether it's logarithmic."
   ]
  },
  {
   "cell_type": "markdown",
   "metadata": {},
   "source": [
    "## Part B"
   ]
  },
  {
   "cell_type": "markdown",
   "metadata": {},
   "source": [
    "Show that $\\lnot (X \\wedge Y) = (\\lnot X) \\lor (\\lnot Y)$:\n",
    "\n",
    "Let's prove this by brute force:\n",
    "\n",
    "Suppose $X = true, Y = true$:\n",
    "\n",
    "- $\\lnot(T \\wedge T) = F$ \n",
    "- $(\\lnot T) \\lor (\\lnot T) = F \\lor F = F$\n",
    "\n",
    "Suppose $X = true, Y = false$:\n",
    "\n",
    "- $\\lnot(T \\wedge F) = T$\n",
    "- $(\\lnot T) \\lor (\\lnot F) = F \\lor T = T$\n",
    "\n",
    "Suppose $X = false, Y = true$\n",
    "\n",
    "- $\\lnot(F \\wedge T) = T$\n",
    "- $(\\lnot F) \\lor (\\lnot T) = T \\lor F = T$\n",
    "\n",
    "Suppose $X = false, Y = false$\n",
    "\n",
    "- $\\lnot(F \\wedge F) = T$\n",
    "- $(\\lnot F) \\lor (\\lnot F) = T \\lor T = T$\n",
    "\n",
    "The four potential combinations evaluate the same way on both, showing that the conjuncture $\\lnot (X \\wedge Y) = (\\lnot X) \\lor (\\lnot Y)$ is likely true."
   ]
  },
  {
   "cell_type": "markdown",
   "metadata": {},
   "source": [
    "Now we will try to write the 3-color plots in conjunctive normal form: **Attempted, but not finished**\n",
    "\n",
    "Plot 1: Only three different colors are needed\n",
    "\n",
    "- $(A \\lor C) \\wedge (B \\lor A \\lor C) \\wedge (D \\lor A \\lor C)$\n",
    "- $(X_1 \\lor X_2 \\lor X_3) \\wedge ()$\n",
    "\n",
    "Plot 2: All must have different colors to satisfy this clause\n",
    "\n",
    "- $(A \\lor B \\lor C \\lor D)$"
   ]
  },
  {
   "cell_type": "markdown",
   "metadata": {},
   "source": [
    "**Well, I made the mistake of thinking that I would be able to finish this problem if I started on Thursday. It turns out I was wrong, and I won't be finishing this problem on time. Therefore, I will now simply explain the approach that I would take in words to each of the parts to this problem, and if that's worth some credit, great. If not, that's fine too since this is still a useful exercise.**"
   ]
  },
  {
   "cell_type": "markdown",
   "metadata": {},
   "source": [
    "## Part C"
   ]
  },
  {
   "cell_type": "markdown",
   "metadata": {},
   "source": [
    "The DP algorithm is a simple algorithm for determining whether a series of boolean statements has an existing combination of states that result in an ultimately satisfied state. Here's the logic of the algorithm:\n",
    "\n",
    "1. Set one of the variables to true (all others being false)\n",
    "2. Reduce the clauses that contain that variable\n",
    "3. If they all return true, then choose another variable to set to true\n",
    "4. Reduce the clauses containing that newly-set variable\n",
    "5. If they also all return true, choose yet another variable to set to true\n",
    "6. If at any point any of the clauses containing your newly-set variable return false, return to your previous variable, and try switching it from true to false, then continue forward (the next variable should still be set to true from before)\n",
    "7. As needed, back up through the variables as many times as you need to until you can go through all of the variables and return a true for the entire tree."
   ]
  },
  {
   "cell_type": "markdown",
   "metadata": {},
   "source": [
    "## Part D"
   ]
  },
  {
   "cell_type": "markdown",
   "metadata": {},
   "source": [
    "I would set up the \\textbf{kSAT} problem by creating a random matrix of integers that is $M \\times N$, and changing values if they put two variables in the same row. The integers would be chosen between $\\pm N$, with positive values corresponding to true statements and negative values corresponding to NOT statements.\n",
    "\n",
    "For small values of $M/N$, we would expect most of the problems to be solvable because the problem is unconstrained, meaning that there are likely multiple combinations that will produce an overall true result. These are also likely to run fast because the likelihood of finding just one of the paths quickly is fairly high.\n",
    "\n",
    "For large values of $M/N$, we would expect most of the problems to be unsolvable because the problem is overconstrained, meaning that there are so many \"rules\" that they likely contradict each other. The system may still be solvable if the rules happen to be noncontradictory, but the likelihood of this is smaller and smaller the larger that $M/N$ gets. For large $M/N$ values the algorithm is likely to run quickly because each branch quickly gets ruled out as none of them are satisfiable.\n",
    "\n",
    "For values of $M/N$ near some critical point, the solvability of the system starts to transition from likely solvable to likely not solvable. It is in these situations where the DP algorithm must explore almost every branch of the tree, and hence the run times are likely to be largest when $M/N$ is in this region."
   ]
  },
  {
   "cell_type": "markdown",
   "metadata": {},
   "source": [
    "## Part E"
   ]
  },
  {
   "cell_type": "markdown",
   "metadata": {},
   "source": [
    "I would expect that checking for singletons would make the DP algorithm run faster because singletons help you immediately determine whether a variable must be set to true or false, which negates your need to \"flip that switch\". In fact, I would expect it to be sped up a lot by checking for singletons because as you progress through the tree you will find more and more singletons as more variabelse are set."
   ]
  },
  {
   "cell_type": "markdown",
   "metadata": {},
   "source": [
    "## Part F"
   ]
  },
  {
   "cell_type": "markdown",
   "metadata": {},
   "source": [
    "The exponent should be negative, because the longer the time runs, the less likely the system is to ultimately be solved. I'm not sure what it should be, but I am pretty confident that is should be negative.\n",
    "\n",
    "I believe that choosing the most common variable first would indeed speed up your solution time because you don't have to spend a long time deciding what the state of the most commonly-used variable is.\n",
    "\n",
    "Conversely, I also expect starting with the least commonly-used variable would dramatically slow down the algorithm. You can likely think of this as trying to build the roof before the foundation, or adding detail to something whose basic shape is not yet complete."
   ]
  },
  {
   "cell_type": "markdown",
   "metadata": {},
   "source": [
    "## Part G"
   ]
  },
  {
   "cell_type": "markdown",
   "metadata": {},
   "source": [
    "The best algorithm would probably have been the algorithm that started with the most commonly-used variable. Obviously, I don't have results for this, but I would hope for my algorithm to converge to the values specified for \\textbf{2SAT} and \\textbf{3SAT}. I would also anticipate that \\textbf{2SAT} is in \\textbf{P} and that \\textbf{3SAT} grows exponentially, since that's what the assignment asks about.   "
   ]
  },
  {
   "cell_type": "markdown",
   "metadata": {},
   "source": [
    "**So that's the homework! I definitely should have started sooner. I also think that in the future it would help to have this problem assigned after talking about the DP algorithm and noting that we will need to spend several days doing this problem. It's my fault that I started too late, but hopefully my conceptual understanding helps salvage a part of the points. If not, that's totally fine too. Thanks!**"
   ]
  }
 ],
 "metadata": {
  "author": "mes",
  "kernelspec": {
   "display_name": "Python 3",
   "language": "python",
   "name": "python3"
  },
  "language_info": {
   "codemirror_mode": {
    "name": "ipython",
    "version": 3
   },
   "file_extension": ".py",
   "mimetype": "text/x-python",
   "name": "python",
   "nbconvert_exporter": "python",
   "pygments_lexer": "ipython3",
   "version": "3.8.5"
  },
  "latex_envs": {
   "LaTeX_envs_menu_present": true,
   "autoclose": true,
   "autocomplete": true,
   "bibliofile": "biblio.bib",
   "cite_by": "apalike",
   "current_citInitial": 1,
   "eqLabelWithNumbers": true,
   "eqNumInitial": 1,
   "hotkeys": {
    "equation": "Ctrl-E",
    "itemize": "Ctrl-I"
   },
   "labels_anchors": false,
   "latex_user_defs": false,
   "report_style_numbering": false,
   "user_envs_cfg": false
  },
  "toc": {
   "base_numbering": 1,
   "nav_menu": {},
   "number_sections": true,
   "sideBar": true,
   "skip_h1_title": false,
   "title_cell": "Table of Contents",
   "title_sidebar": "Contents",
   "toc_cell": false,
   "toc_position": {},
   "toc_section_display": true,
   "toc_window_display": false
  },
  "varInspector": {
   "cols": {
    "lenName": 16,
    "lenType": 16,
    "lenVar": 40
   },
   "kernels_config": {
    "python": {
     "delete_cmd_postfix": "",
     "delete_cmd_prefix": "del ",
     "library": "var_list.py",
     "varRefreshCmd": "print(var_dic_list())"
    },
    "r": {
     "delete_cmd_postfix": ") ",
     "delete_cmd_prefix": "rm(",
     "library": "var_list.r",
     "varRefreshCmd": "cat(var_dic_list()) "
    }
   },
   "types_to_exclude": [
    "module",
    "function",
    "builtin_function_or_method",
    "instance",
    "_Feature"
   ],
   "window_display": false
  }
 },
 "nbformat": 4,
 "nbformat_minor": 4
}
