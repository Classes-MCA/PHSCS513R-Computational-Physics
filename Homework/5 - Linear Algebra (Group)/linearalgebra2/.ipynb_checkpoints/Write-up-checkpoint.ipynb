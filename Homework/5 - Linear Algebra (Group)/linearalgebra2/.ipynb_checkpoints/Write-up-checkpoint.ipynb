{
 "cells": [
  {
   "cell_type": "markdown",
   "metadata": {
    "heading_collapsed": true
   },
   "source": [
    "# Overview"
   ]
  },
  {
   "cell_type": "markdown",
   "metadata": {
    "hidden": true
   },
   "source": [
    "Consider the one-dimensional boundary value problem that arises in fluid dynamics:\n",
    "\n",
    "$$-u''(x) + V(x)u'(x) = f(x), x \\in[0,1]$$\n",
    "\n",
    "$$u(0) = u(1) = 0$$\n",
    "\n",
    "where we will take $V(x), f(x)$ to be constants:\n",
    "\n",
    "$$V(x) = \\gamma$$\n",
    "\n",
    "$$f(x) = 1$$\n",
    "\n",
    "Therefore, the total problem is:\n",
    "\n",
    "$$-u''(x) + \\gamma u'(x) = 1, x \\in[0,1]$$\n",
    "\n",
    "$$u(0) = u(1) = 0$$"
   ]
  },
  {
   "cell_type": "markdown",
   "metadata": {},
   "source": [
    "# 1. Problem Formulation"
   ]
  },
  {
   "cell_type": "markdown",
   "metadata": {},
   "source": [
    "## Part A"
   ]
  },
  {
   "cell_type": "markdown",
   "metadata": {},
   "source": [
    "Write this boundary value problem as a variational problem for some test function $\\phi$:\n",
    "\n",
    "$$A(u,\\phi) = F(\\phi)$$\n",
    "\n",
    "---"
   ]
  },
  {
   "cell_type": "code",
   "execution_count": null,
   "metadata": {},
   "outputs": [],
   "source": []
  },
  {
   "cell_type": "markdown",
   "metadata": {},
   "source": [
    "## Part B"
   ]
  },
  {
   "cell_type": "markdown",
   "metadata": {},
   "source": [
    "Take $\\phi_i$ to be the \"hat\" functions discussed in class and approximate $u(x)$ as a linear combination of these basis vectors:\n",
    "\n",
    "$$u(x) = \\sum_i u_i \\phi_i(x)$$\n",
    "\n",
    "Show that the variational problem from part (a) becomes a linear algebra problem of the form\n",
    "\n",
    "$$A\\vec{x} = \\vec{b}.$$\n",
    "\n",
    "Derive expressions for the matrix $A$ and vector $\\vec{b}$. Show specifically that $A_{ij} = A(\\phi_j,\\phi_i)$, and that it can be written as the sum of two matrices $A = A_1 + A_2$ where $A_1$ and $A_2$ correspond to the first two terms on the left-hand side of the ODE. (Hint: you should find that $A_1$ is symmetric while $A_2$ is skew-symmetric).\n",
    "\n",
    "---"
   ]
  },
  {
   "cell_type": "code",
   "execution_count": null,
   "metadata": {},
   "outputs": [],
   "source": []
  },
  {
   "cell_type": "markdown",
   "metadata": {},
   "source": [
    "## Part C"
   ]
  },
  {
   "cell_type": "markdown",
   "metadata": {},
   "source": [
    "Implement a driver routine that will return $A$ and $\\vec{b}$ given inputs $n$ and $\\gamma$. The matrix $A$ should be implemented as a sparse representation in your environment.\n",
    "\n",
    "---"
   ]
  },
  {
   "cell_type": "code",
   "execution_count": null,
   "metadata": {},
   "outputs": [],
   "source": []
  },
  {
   "cell_type": "markdown",
   "metadata": {},
   "source": [
    "# 2. Implement the GMRES Algorithm"
   ]
  },
  {
   "cell_type": "markdown",
   "metadata": {},
   "source": [
    "Your function should have the following signature: *mygmres(I, b, x0, n, M, A)* and should compute $I$ iterations of the GMRES and return the approximate solution of $A\\vec{x} = \\vec{b}$ with initial iterate x0. Here, $n$ is the dimension of the problem, $A$ is an $n \\times n$ matrix, $M$ is an $n \\times n$ matrix that defines the inner product used for calculating vector norms (and therefore the error).\n",
    "\n",
    "Coordinate your group work through a git repository on the deparment server. Make your repository publicly visible and share the link as a solution to this problem. The commit history should include commits from all group members.\n",
    "\n",
    "---"
   ]
  },
  {
   "cell_type": "code",
   "execution_count": null,
   "metadata": {},
   "outputs": [],
   "source": []
  },
  {
   "cell_type": "markdown",
   "metadata": {},
   "source": [
    "# 3. Solving the FEM Problem"
   ]
  },
  {
   "cell_type": "markdown",
   "metadata": {},
   "source": [
    "Use your GMRES function to solve the finite-element formulation of the variational problem for the cases\n",
    "\n",
    "$$V(x) = 1$$\n",
    "\n",
    "and\n",
    "\n",
    "$$V(x) = n+1$$\n",
    "\n",
    "using $M$ as the identity matrix. For each case, run with $n = 16,32,64,128$ and $I = 2,4,8,16,32,64,...$, increasing $I$ until the error (I.e., norm of the residual divided by $n$) is below $10^{-6}$. Plot your most accurate solution (as a function of x) as well as the error versus functions of $n$ and $I$.\n",
    "\n",
    "---"
   ]
  },
  {
   "cell_type": "code",
   "execution_count": null,
   "metadata": {},
   "outputs": [],
   "source": []
  },
  {
   "cell_type": "markdown",
   "metadata": {},
   "source": [
    "# 4. Preconditioning GMRES"
   ]
  },
  {
   "cell_type": "markdown",
   "metadata": {},
   "source": [
    "Now consider a preconditioned version of the problem: $\\tilde{A}\\vec{x} = \\tilde{b}$ where\n",
    "\n",
    "- $\\tilde{A} = A_1^{-1} A$\n",
    "- $\\tilde{b} = A_1^{-1} \\vec{b}$\n",
    "- $M = A_1$\n",
    "\n",
    "Here, $A_1$ is known as a preconditioning matrix and is used to speed up the convergence or improve the accuracy of solution methods."
   ]
  },
  {
   "cell_type": "markdown",
   "metadata": {},
   "source": [
    "## Part A"
   ]
  },
  {
   "cell_type": "markdown",
   "metadata": {},
   "source": [
    "Show that this problem is formally equivalent to the one you considered in probelm 3 (i.e., show that any candidtate solution $\\vec{x}$ will have the same residual for both problems).\n",
    "\n",
    "---"
   ]
  },
  {
   "cell_type": "code",
   "execution_count": null,
   "metadata": {},
   "outputs": [],
   "source": []
  },
  {
   "cell_type": "markdown",
   "metadata": {},
   "source": [
    "## Part B"
   ]
  },
  {
   "cell_type": "markdown",
   "metadata": {},
   "source": [
    "Argue that $\\tilde{A}$ and $\\tilde{b}$ can be calculated efficiently, even though they formally involve a matrix inverse (This is a requirement for a preconditioning matrix to be useful).\n",
    "\n",
    "---"
   ]
  },
  {
   "cell_type": "code",
   "execution_count": null,
   "metadata": {},
   "outputs": [],
   "source": []
  },
  {
   "cell_type": "markdown",
   "metadata": {},
   "source": [
    "## Part C"
   ]
  },
  {
   "cell_type": "markdown",
   "metadata": {},
   "source": [
    "Repeat problem 3 for the preconditioned version of the problem.\n",
    "\n",
    "---"
   ]
  },
  {
   "cell_type": "code",
   "execution_count": null,
   "metadata": {},
   "outputs": [],
   "source": []
  },
  {
   "cell_type": "markdown",
   "metadata": {},
   "source": [
    "## Part D"
   ]
  },
  {
   "cell_type": "markdown",
   "metadata": {},
   "source": [
    "How quickly does the convergence rate for your GMRES algorithm compare with that in problem 3? Why? (Hint: Consider the condition number of hte two problems)\n",
    "\n",
    "---"
   ]
  },
  {
   "cell_type": "code",
   "execution_count": null,
   "metadata": {},
   "outputs": [],
   "source": []
  }
 ],
 "metadata": {
  "author": "l",
  "kernelspec": {
   "display_name": "Python 3",
   "language": "python",
   "name": "python3"
  },
  "language_info": {
   "codemirror_mode": {
    "name": "ipython",
    "version": 3
   },
   "file_extension": ".py",
   "mimetype": "text/x-python",
   "name": "python",
   "nbconvert_exporter": "python",
   "pygments_lexer": "ipython3",
   "version": "3.8.5"
  },
  "latex_envs": {
   "LaTeX_envs_menu_present": true,
   "autoclose": true,
   "autocomplete": true,
   "bibliofile": "biblio.bib",
   "cite_by": "apalike",
   "current_citInitial": 1,
   "eqLabelWithNumbers": true,
   "eqNumInitial": 1,
   "hotkeys": {
    "equation": "Ctrl-E",
    "itemize": "Ctrl-I"
   },
   "labels_anchors": false,
   "latex_user_defs": false,
   "report_style_numbering": false,
   "user_envs_cfg": false
  },
  "toc": {
   "base_numbering": 1,
   "nav_menu": {},
   "number_sections": true,
   "sideBar": true,
   "skip_h1_title": false,
   "title_cell": "Table of Contents",
   "title_sidebar": "Contents",
   "toc_cell": false,
   "toc_position": {},
   "toc_section_display": true,
   "toc_window_display": false
  },
  "varInspector": {
   "cols": {
    "lenName": 16,
    "lenType": 16,
    "lenVar": 40
   },
   "kernels_config": {
    "python": {
     "delete_cmd_postfix": "",
     "delete_cmd_prefix": "del ",
     "library": "var_list.py",
     "varRefreshCmd": "print(var_dic_list())"
    },
    "r": {
     "delete_cmd_postfix": ") ",
     "delete_cmd_prefix": "rm(",
     "library": "var_list.r",
     "varRefreshCmd": "cat(var_dic_list()) "
    }
   },
   "types_to_exclude": [
    "module",
    "function",
    "builtin_function_or_method",
    "instance",
    "_Feature"
   ],
   "window_display": false
  }
 },
 "nbformat": 4,
 "nbformat_minor": 4
}
